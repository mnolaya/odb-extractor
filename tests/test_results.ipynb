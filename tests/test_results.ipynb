{
 "cells": [
  {
   "cell_type": "code",
   "execution_count": 428,
   "metadata": {},
   "outputs": [],
   "source": [
    "import pathlib\n",
    "import json\n",
    "\n",
    "from attrs import define, field, evolve\n",
    "import polars as pl\n",
    "import numpy as np\n",
    "import matplotlib.pyplot as plt"
   ]
  },
  {
   "cell_type": "code",
   "execution_count": 429,
   "metadata": {},
   "outputs": [],
   "source": [
    "TEST_DATA = pathlib.Path('/home/michael_olaya_student_uml_edu/repos/odb-extractor/tests/raw_odbex/extracted_rimr_carbon_1fib_vf_0p55_RI_fbc_16cpu_22.json')"
   ]
  },
  {
   "cell_type": "code",
   "execution_count": null,
   "metadata": {},
   "outputs": [],
   "source": []
  },
  {
   "cell_type": "code",
   "execution_count": 430,
   "metadata": {},
   "outputs": [],
   "source": [
    "@define\n",
    "class FieldData:\n",
    "    step: str\n",
    "    region: str\n",
    "    increments: dict[int, float]\n",
    "    field: str\n",
    "    data: np.ndarray\n",
    "    components: list[str]\n",
    "\n",
    "    @classmethod\n",
    "    def from_dict(cls, step: str, region: str, increments: dict[int, float], field: str, field_data_dict: dict[str, list]):\n",
    "        data = cls._load_field_data(field_data_dict['data'])\n",
    "        components = field_data_dict['components']\n",
    "        return cls(step, region, field, increments, data, components)\n",
    "\n",
    "    @staticmethod\n",
    "    def _load_field_data(field_data: dict) -> np.ndarray:\n",
    "        return np.array([d for d in field_data])\n",
    "\n",
    "@define\n",
    "class RegionData:\n",
    "    region: str\n",
    "    field_data: dict[str, FieldData] = field(factory=dict)\n",
    "\n",
    "    def volume_average_field(self, field: str) -> np.ndarray:\n",
    "        if 'IVOL' not in self.field_data.keys():\n",
    "            print('error: IVOL was not found in the available field data for the region')\n",
    "            print('ensure IVOL is requested for simulation field outputs and in the odbex config file when extracting data')\n",
    "            return\n",
    "        field_data = self.field_data[field].data\n",
    "        ipvol = self.field_data['IVOL'].data\n",
    "        vol_averaged = np.array([np.sum(fd*ipv, axis=0)/np.sum(ipv) for fd, ipv in zip(field_data, ipvol)])\n",
    "        return evolve(self.field_data[field], data=vol_averaged)\n",
    "\n",
    "@define\n",
    "class StepData:\n",
    "    step: str\n",
    "    region_data: dict[str, RegionData] = field(factory=dict)\n",
    "    \n",
    "@define\n",
    "class SimulationData:\n",
    "    step_data: dict[str, StepData] = field(factory=dict)\n",
    "\n",
    "    @classmethod\n",
    "    def from_extracted(cls, data_filepath: pathlib.Path):\n",
    "        # Initialize\n",
    "        cls_ = cls()\n",
    "\n",
    "        # Load raw data from json\n",
    "        with open(data_filepath, 'r') as f:\n",
    "            raw_data = json.load(f)\n",
    "\n",
    "        # Update dictionary of step data with StepData/RegionData/FieldData objects\n",
    "        for step, step_data in raw_data.items():\n",
    "            sd = StepData(step)\n",
    "            increments = step_data['increments']\n",
    "            for region, field_data_dicts in step_data['field_data'].items():\n",
    "                sd.region_data.update({region: RegionData(\n",
    "                    region=region,\n",
    "                    field_data={field: FieldData.from_dict(\n",
    "                        step, region, increments, field, fdd\n",
    "                    ) for field, fdd in field_data_dicts.items() if not field.lower() in ['elems', 'ips', 'nodes']}\n",
    "                )})\n",
    "            cls_.step_data.update({step: sd})\n",
    "        return cls_\n",
    "    \n",
    "    def get_region_data(self, step: str, region: str) -> RegionData:\n",
    "        return self.step_data[step].region_data[region]\n",
    "\n",
    "    def get_field_data(self, step: str, region: str, field: str) -> FieldData:\n",
    "        return self.get_region_data(step, region).field_data[field]"
   ]
  },
  {
   "cell_type": "code",
   "execution_count": 431,
   "metadata": {},
   "outputs": [],
   "source": [
    "def load_field_data(region_data: dict, name: str) -> list[np.ndarray]:\n",
    "    return np.array([d for d in region_data[name]['data']])\n",
    "\n",
    "def volume_average_field(field_data: list[np.ndarray], ipvol: list[np.ndarray]) -> np.ndarray:\n",
    "    return np.array([np.sum(fd*ipv, axis=0)/np.sum(ipv) for fd, ipv in zip(field_data, ipvol)])"
   ]
  },
  {
   "cell_type": "code",
   "execution_count": 434,
   "metadata": {},
   "outputs": [
    {
     "data": {
      "text/plain": [
       "array([[ 0.00000000e+00,  0.00000000e+00,  0.00000000e+00,\n",
       "         0.00000000e+00,  0.00000000e+00,  0.00000000e+00],\n",
       "       [ 1.21584136e-07,  1.99066891e+01, -2.31749442e-09,\n",
       "         4.44546151e-10,  2.07722246e-11, -1.28863115e-03],\n",
       "       [-7.48305691e-03,  3.86786686e+01, -7.47573531e-03,\n",
       "         8.60983456e-10,  4.11292790e-11, -1.49741180e-03],\n",
       "       [ 7.52731454e-10,  1.04240778e-02, -5.67714543e-10,\n",
       "        -4.17199498e-13,  1.86530817e-13,  1.03328866e-03],\n",
       "       [ 9.90302695e-10,  1.38987704e-02,  1.55049244e-10,\n",
       "        -5.56267663e-13,  2.48709491e-13,  1.37771835e-03],\n",
       "       [ 9.73736089e-10,  1.73734632e-02, -3.74146522e-10,\n",
       "        -6.95332745e-13,  3.10887787e-13,  1.72214796e-03]])"
      ]
     },
     "execution_count": 434,
     "metadata": {},
     "output_type": "execute_result"
    }
   ],
   "source": [
    "simdata = SimulationData.from_extracted(TEST_DATA)\n",
    "stress = simdata.get_region_data('pull-step', 'SET-ALLELEMENTS').volume_average_field('S')\n",
    "strain = simdata.get_region_data('pull-step', 'SET-ALLELEMENTS').volume_average_field('E')"
   ]
  },
  {
   "cell_type": "code",
   "execution_count": 433,
   "metadata": {},
   "outputs": [],
   "source": [
    "fig, ax = plt.subplots()\n",
    "ax.plot(strain.data[:, 1], stress.data[:, 1])"
   ]
  }
 ],
 "metadata": {
  "kernelspec": {
   "display_name": "Python 3",
   "language": "python",
   "name": "python3"
  },
  "language_info": {
   "codemirror_mode": {
    "name": "ipython",
    "version": 3
   },
   "file_extension": ".py",
   "mimetype": "text/x-python",
   "name": "python",
   "nbconvert_exporter": "python",
   "pygments_lexer": "ipython3",
   "version": "3.12.2"
  }
 },
 "nbformat": 4,
 "nbformat_minor": 2
}
